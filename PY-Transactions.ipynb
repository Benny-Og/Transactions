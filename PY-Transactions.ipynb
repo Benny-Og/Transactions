{
 "cells": [
  {
   "cell_type": "code",
   "execution_count": 312,
   "id": "82d66d2e-9fdf-406c-bd5b-f5230014c26b",
   "metadata": {},
   "outputs": [],
   "source": [
    "import matplotlib.pyplot as plt\n",
    "import matplotlib.ticker as ticker"
   ]
  },
  {
   "cell_type": "code",
   "execution_count": 2,
   "id": "025a6140-5205-4cc4-ad8e-cf610c0eca44",
   "metadata": {},
   "outputs": [],
   "source": [
    "import pandas as pd\n",
    "import numpy as np"
   ]
  },
  {
   "cell_type": "code",
   "execution_count": 140,
   "id": "661584b4-2a66-4f2d-9585-9110643a2f3a",
   "metadata": {},
   "outputs": [],
   "source": [
    "df = pd.read_csv('/Users/bennyogayonne/Downloads/transactions.csv')"
   ]
  },
  {
   "cell_type": "code",
   "execution_count": 141,
   "id": "e59f9e31-73b7-4c5b-bae1-473cc0c3fdd2",
   "metadata": {
    "scrolled": true
   },
   "outputs": [
    {
     "data": {
      "text/html": [
       "<div>\n",
       "<style scoped>\n",
       "    .dataframe tbody tr th:only-of-type {\n",
       "        vertical-align: middle;\n",
       "    }\n",
       "\n",
       "    .dataframe tbody tr th {\n",
       "        vertical-align: top;\n",
       "    }\n",
       "\n",
       "    .dataframe thead th {\n",
       "        text-align: right;\n",
       "    }\n",
       "</style>\n",
       "<table border=\"1\" class=\"dataframe\">\n",
       "  <thead>\n",
       "    <tr style=\"text-align: right;\">\n",
       "      <th></th>\n",
       "      <th>Unnamed: 0</th>\n",
       "      <th>trans_date_trans_time</th>\n",
       "      <th>cc_num</th>\n",
       "      <th>merchant</th>\n",
       "      <th>category</th>\n",
       "      <th>amt</th>\n",
       "      <th>first</th>\n",
       "      <th>last</th>\n",
       "      <th>gender</th>\n",
       "      <th>street</th>\n",
       "      <th>...</th>\n",
       "      <th>long</th>\n",
       "      <th>city_pop</th>\n",
       "      <th>job</th>\n",
       "      <th>dob</th>\n",
       "      <th>trans_num</th>\n",
       "      <th>unix_time</th>\n",
       "      <th>merch_lat</th>\n",
       "      <th>merch_long</th>\n",
       "      <th>is_fraud</th>\n",
       "      <th>merch_zipcode</th>\n",
       "    </tr>\n",
       "  </thead>\n",
       "  <tbody>\n",
       "    <tr>\n",
       "      <th>0</th>\n",
       "      <td>0</td>\n",
       "      <td>2019-01-01 00:00:18</td>\n",
       "      <td>2703186189652095</td>\n",
       "      <td>fraud_Rippin, Kub and Mann</td>\n",
       "      <td>misc_net</td>\n",
       "      <td>4.97</td>\n",
       "      <td>Jennifer</td>\n",
       "      <td>Banks</td>\n",
       "      <td>F</td>\n",
       "      <td>561 Perry Cove</td>\n",
       "      <td>...</td>\n",
       "      <td>-81.1781</td>\n",
       "      <td>3495</td>\n",
       "      <td>Psychologist, counselling</td>\n",
       "      <td>1988-03-09</td>\n",
       "      <td>0b242abb623afc578575680df30655b9</td>\n",
       "      <td>1325376018</td>\n",
       "      <td>36.011293</td>\n",
       "      <td>-82.048315</td>\n",
       "      <td>0</td>\n",
       "      <td>28705.0</td>\n",
       "    </tr>\n",
       "    <tr>\n",
       "      <th>1</th>\n",
       "      <td>1</td>\n",
       "      <td>2019-01-01 00:00:44</td>\n",
       "      <td>630423337322</td>\n",
       "      <td>fraud_Heller, Gutmann and Zieme</td>\n",
       "      <td>grocery_pos</td>\n",
       "      <td>107.23</td>\n",
       "      <td>Stephanie</td>\n",
       "      <td>Gill</td>\n",
       "      <td>F</td>\n",
       "      <td>43039 Riley Greens Suite 393</td>\n",
       "      <td>...</td>\n",
       "      <td>-118.2105</td>\n",
       "      <td>149</td>\n",
       "      <td>Special educational needs teacher</td>\n",
       "      <td>1978-06-21</td>\n",
       "      <td>1f76529f8574734946361c461b024d99</td>\n",
       "      <td>1325376044</td>\n",
       "      <td>49.159047</td>\n",
       "      <td>-118.186462</td>\n",
       "      <td>0</td>\n",
       "      <td>NaN</td>\n",
       "    </tr>\n",
       "    <tr>\n",
       "      <th>2</th>\n",
       "      <td>2</td>\n",
       "      <td>2019-01-01 00:00:51</td>\n",
       "      <td>38859492057661</td>\n",
       "      <td>fraud_Lind-Buckridge</td>\n",
       "      <td>entertainment</td>\n",
       "      <td>220.11</td>\n",
       "      <td>Edward</td>\n",
       "      <td>Sanchez</td>\n",
       "      <td>M</td>\n",
       "      <td>594 White Dale Suite 530</td>\n",
       "      <td>...</td>\n",
       "      <td>-112.2620</td>\n",
       "      <td>4154</td>\n",
       "      <td>Nature conservation officer</td>\n",
       "      <td>1962-01-19</td>\n",
       "      <td>a1a22d70485983eac12b5b88dad1cf95</td>\n",
       "      <td>1325376051</td>\n",
       "      <td>43.150704</td>\n",
       "      <td>-112.154481</td>\n",
       "      <td>0</td>\n",
       "      <td>83236.0</td>\n",
       "    </tr>\n",
       "    <tr>\n",
       "      <th>3</th>\n",
       "      <td>3</td>\n",
       "      <td>2019-01-01 00:01:16</td>\n",
       "      <td>3534093764340240</td>\n",
       "      <td>fraud_Kutch, Hermiston and Farrell</td>\n",
       "      <td>gas_transport</td>\n",
       "      <td>45.00</td>\n",
       "      <td>Jeremy</td>\n",
       "      <td>White</td>\n",
       "      <td>M</td>\n",
       "      <td>9443 Cynthia Court Apt. 038</td>\n",
       "      <td>...</td>\n",
       "      <td>-112.1138</td>\n",
       "      <td>1939</td>\n",
       "      <td>Patent attorney</td>\n",
       "      <td>1967-01-12</td>\n",
       "      <td>6b849c168bdad6f867558c3793159a81</td>\n",
       "      <td>1325376076</td>\n",
       "      <td>47.034331</td>\n",
       "      <td>-112.561071</td>\n",
       "      <td>0</td>\n",
       "      <td>NaN</td>\n",
       "    </tr>\n",
       "    <tr>\n",
       "      <th>4</th>\n",
       "      <td>4</td>\n",
       "      <td>2019-01-01 00:03:06</td>\n",
       "      <td>375534208663984</td>\n",
       "      <td>fraud_Keeling-Crist</td>\n",
       "      <td>misc_pos</td>\n",
       "      <td>41.96</td>\n",
       "      <td>Tyler</td>\n",
       "      <td>Garcia</td>\n",
       "      <td>M</td>\n",
       "      <td>408 Bradley Rest</td>\n",
       "      <td>...</td>\n",
       "      <td>-79.4629</td>\n",
       "      <td>99</td>\n",
       "      <td>Dance movement psychotherapist</td>\n",
       "      <td>1986-03-28</td>\n",
       "      <td>a41d7549acf90789359a9aa5346dcb46</td>\n",
       "      <td>1325376186</td>\n",
       "      <td>38.674999</td>\n",
       "      <td>-78.632459</td>\n",
       "      <td>0</td>\n",
       "      <td>22844.0</td>\n",
       "    </tr>\n",
       "  </tbody>\n",
       "</table>\n",
       "<p>5 rows × 24 columns</p>\n",
       "</div>"
      ],
      "text/plain": [
       "   Unnamed: 0 trans_date_trans_time            cc_num  \\\n",
       "0           0   2019-01-01 00:00:18  2703186189652095   \n",
       "1           1   2019-01-01 00:00:44      630423337322   \n",
       "2           2   2019-01-01 00:00:51    38859492057661   \n",
       "3           3   2019-01-01 00:01:16  3534093764340240   \n",
       "4           4   2019-01-01 00:03:06   375534208663984   \n",
       "\n",
       "                             merchant       category     amt      first  \\\n",
       "0          fraud_Rippin, Kub and Mann       misc_net    4.97   Jennifer   \n",
       "1     fraud_Heller, Gutmann and Zieme    grocery_pos  107.23  Stephanie   \n",
       "2                fraud_Lind-Buckridge  entertainment  220.11     Edward   \n",
       "3  fraud_Kutch, Hermiston and Farrell  gas_transport   45.00     Jeremy   \n",
       "4                 fraud_Keeling-Crist       misc_pos   41.96      Tyler   \n",
       "\n",
       "      last gender                        street  ...      long city_pop  \\\n",
       "0    Banks      F                561 Perry Cove  ...  -81.1781     3495   \n",
       "1     Gill      F  43039 Riley Greens Suite 393  ... -118.2105      149   \n",
       "2  Sanchez      M      594 White Dale Suite 530  ... -112.2620     4154   \n",
       "3    White      M   9443 Cynthia Court Apt. 038  ... -112.1138     1939   \n",
       "4   Garcia      M              408 Bradley Rest  ...  -79.4629       99   \n",
       "\n",
       "                                 job         dob  \\\n",
       "0          Psychologist, counselling  1988-03-09   \n",
       "1  Special educational needs teacher  1978-06-21   \n",
       "2        Nature conservation officer  1962-01-19   \n",
       "3                    Patent attorney  1967-01-12   \n",
       "4     Dance movement psychotherapist  1986-03-28   \n",
       "\n",
       "                          trans_num   unix_time  merch_lat  merch_long  \\\n",
       "0  0b242abb623afc578575680df30655b9  1325376018  36.011293  -82.048315   \n",
       "1  1f76529f8574734946361c461b024d99  1325376044  49.159047 -118.186462   \n",
       "2  a1a22d70485983eac12b5b88dad1cf95  1325376051  43.150704 -112.154481   \n",
       "3  6b849c168bdad6f867558c3793159a81  1325376076  47.034331 -112.561071   \n",
       "4  a41d7549acf90789359a9aa5346dcb46  1325376186  38.674999  -78.632459   \n",
       "\n",
       "  is_fraud  merch_zipcode  \n",
       "0        0        28705.0  \n",
       "1        0            NaN  \n",
       "2        0        83236.0  \n",
       "3        0            NaN  \n",
       "4        0        22844.0  \n",
       "\n",
       "[5 rows x 24 columns]"
      ]
     },
     "execution_count": 141,
     "metadata": {},
     "output_type": "execute_result"
    }
   ],
   "source": [
    "df.head()"
   ]
  },
  {
   "cell_type": "code",
   "execution_count": 8,
   "id": "bfb1cba9-3eda-4d68-b37b-76619a8f7935",
   "metadata": {},
   "outputs": [
    {
     "data": {
      "text/plain": [
       "0"
      ]
     },
     "execution_count": 8,
     "metadata": {},
     "output_type": "execute_result"
    }
   ],
   "source": [
    "df.duplicated().sum()"
   ]
  },
  {
   "cell_type": "code",
   "execution_count": null,
   "id": "e1cd978d-42b1-4f24-ab0b-e9156181a448",
   "metadata": {},
   "outputs": [],
   "source": []
  },
  {
   "cell_type": "code",
   "execution_count": 9,
   "id": "45845f8b-5135-4e19-a44e-68cbc64fe0f7",
   "metadata": {},
   "outputs": [],
   "source": [
    "##THE NUMBER OF FRADULENT VS NOT FRADULENT CREDIT CARD CHARGES##"
   ]
  },
  {
   "cell_type": "code",
   "execution_count": 13,
   "id": "2a4ebfab-1b63-408e-a056-a5616d6e5644",
   "metadata": {},
   "outputs": [],
   "source": [
    "is_fraud = df['is_fraud'].value_counts().get(1, 0)"
   ]
  },
  {
   "cell_type": "code",
   "execution_count": 14,
   "id": "8db50337-4f0e-46d2-b884-dafc79b44ea3",
   "metadata": {},
   "outputs": [
    {
     "name": "stdout",
     "output_type": "stream",
     "text": [
      "The number of fraud charges is: 7506\n"
     ]
    }
   ],
   "source": [
    "print(f'The number of fraud charges is: {is_fraud}')"
   ]
  },
  {
   "cell_type": "code",
   "execution_count": 15,
   "id": "e9729a22-f050-4c89-9dab-3a52a7a3da72",
   "metadata": {},
   "outputs": [],
   "source": [
    "not_fraud = df['is_fraud'].value_counts().get(0, 0)"
   ]
  },
  {
   "cell_type": "code",
   "execution_count": 21,
   "id": "1e590f5b-c87f-4a61-b504-14817b5c1dae",
   "metadata": {},
   "outputs": [
    {
     "name": "stdout",
     "output_type": "stream",
     "text": [
      "The number of charges that are not fraud is: 1289169\n"
     ]
    }
   ],
   "source": [
    "print(f'The number of charges that are not fraud is: {not_fraud}')"
   ]
  },
  {
   "cell_type": "code",
   "execution_count": null,
   "id": "118de8cb-f458-49d7-b719-800a433ea379",
   "metadata": {},
   "outputs": [],
   "source": []
  },
  {
   "cell_type": "code",
   "execution_count": 23,
   "id": "cd4431d9-2852-4d02-8789-2af145c13df6",
   "metadata": {},
   "outputs": [],
   "source": [
    "##THE NUMBER OF FEMALES AND MALES IN THE DATABASE##"
   ]
  },
  {
   "cell_type": "code",
   "execution_count": 25,
   "id": "4069b74a-ea68-474b-bf65-73cd5caceb16",
   "metadata": {},
   "outputs": [],
   "source": [
    "female_count = df['gender'].value_counts().get('F')"
   ]
  },
  {
   "cell_type": "code",
   "execution_count": 27,
   "id": "ad24837b-caf2-40dc-8098-d16803165a57",
   "metadata": {},
   "outputs": [
    {
     "name": "stdout",
     "output_type": "stream",
     "text": [
      "The number of females is: 709863\n"
     ]
    }
   ],
   "source": [
    "print(f'The number of females is: {female_count}')"
   ]
  },
  {
   "cell_type": "code",
   "execution_count": 29,
   "id": "15ab32bf-1711-461e-8e86-204df24335bd",
   "metadata": {},
   "outputs": [],
   "source": [
    "male_count = df['gender'].value_counts().get('M')"
   ]
  },
  {
   "cell_type": "code",
   "execution_count": 31,
   "id": "075fc9cb-04ed-45cd-8cab-212211cdcc2f",
   "metadata": {},
   "outputs": [
    {
     "name": "stdout",
     "output_type": "stream",
     "text": [
      "The number of males is: 586812\n"
     ]
    }
   ],
   "source": [
    "print(f'The number of males is: {male_count}')"
   ]
  },
  {
   "cell_type": "code",
   "execution_count": null,
   "id": "3040ce88-f0c4-41e4-a116-2018d8e3ccfb",
   "metadata": {},
   "outputs": [],
   "source": []
  },
  {
   "cell_type": "code",
   "execution_count": 33,
   "id": "07e81403-9fc1-4ca2-bcf2-276fa92c9473",
   "metadata": {},
   "outputs": [],
   "source": [
    "##THE MIN & MAX CATEGORY BASED ON $ AMOUNT##"
   ]
  },
  {
   "cell_type": "code",
   "execution_count": 35,
   "id": "704a7952-fe6c-4498-bf01-9b58d335ea06",
   "metadata": {},
   "outputs": [],
   "source": [
    "category_amount = df.groupby('category')['amt'].sum()"
   ]
  },
  {
   "cell_type": "code",
   "execution_count": 37,
   "id": "cadf7c77-10b7-4fb8-863a-47f6e591fad8",
   "metadata": {},
   "outputs": [],
   "source": [
    "category_type = category_amount.idxmax()\n",
    "category_num = category_amount.max()"
   ]
  },
  {
   "cell_type": "code",
   "execution_count": 39,
   "id": "ebcf8984-30d6-4298-8850-a8ebe65c6a4f",
   "metadata": {},
   "outputs": [
    {
     "name": "stdout",
     "output_type": "stream",
     "text": [
      "The catgegory with the most amount of sales is grocery_pos, with a sale amount of $14460822.38\n"
     ]
    }
   ],
   "source": [
    "print(f'The catgegory with the most amount of sales is {category_type}, with a sale amount of ${category_num}')"
   ]
  },
  {
   "cell_type": "code",
   "execution_count": 41,
   "id": "48c567c7-3a93-47ac-badb-0505f8dc7ed6",
   "metadata": {},
   "outputs": [],
   "source": [
    "category_min = df.groupby('category')['amt'].sum()"
   ]
  },
  {
   "cell_type": "code",
   "execution_count": 43,
   "id": "68157704-2ff8-4c82-91f4-a6bae1e23dc9",
   "metadata": {},
   "outputs": [],
   "source": [
    "category_type_min = category_min.idxmin()\n",
    "category_num_min = category_min.min()"
   ]
  },
  {
   "cell_type": "code",
   "execution_count": 45,
   "id": "eb795397-16e4-49a2-83f6-ee072e512622",
   "metadata": {},
   "outputs": [
    {
     "name": "stdout",
     "output_type": "stream",
     "text": [
      "The category with the least amount of sales is grocery_net, with a sale amount of $2439412.68\n"
     ]
    }
   ],
   "source": [
    "print(f'The category with the least amount of sales is {category_type_min}, with a sale amount of ${category_num_min}')"
   ]
  },
  {
   "cell_type": "code",
   "execution_count": null,
   "id": "3786c693-27e8-4ee0-9b73-2b0a3a8069aa",
   "metadata": {},
   "outputs": [],
   "source": []
  },
  {
   "cell_type": "code",
   "execution_count": null,
   "id": "c33c3923-b6ab-4017-b4f9-eac308f9149d",
   "metadata": {},
   "outputs": [],
   "source": [
    "##THE TOTAL AMOUNT SPENT BY GENDER##"
   ]
  },
  {
   "cell_type": "code",
   "execution_count": 57,
   "id": "fa5a2ee0-c506-4e44-8421-2c4223dec51b",
   "metadata": {},
   "outputs": [],
   "source": [
    "gender_amount = df.groupby('gender')['amt'].sum()"
   ]
  },
  {
   "cell_type": "code",
   "execution_count": 59,
   "id": "05761ee1-8c63-407f-ad45-ae639f8385be",
   "metadata": {},
   "outputs": [],
   "source": [
    "##filter to only find the sum amount of females\n",
    "\n",
    "female_amount = gender_amount.get('F', 0)"
   ]
  },
  {
   "cell_type": "code",
   "execution_count": 61,
   "id": "3d9e5e43-0d7b-47a4-936c-0fd0f74de661",
   "metadata": {},
   "outputs": [
    {
     "name": "stdout",
     "output_type": "stream",
     "text": [
      "The amount spent by females is: 49832612.83\n"
     ]
    }
   ],
   "source": [
    "print(f'The amount spent by females is: {female_amount}')"
   ]
  },
  {
   "cell_type": "code",
   "execution_count": 63,
   "id": "5eb896e3-2a50-4e96-9026-6b34f8c740c8",
   "metadata": {},
   "outputs": [],
   "source": [
    "##filter to only find the sum amount of males\n",
    "\n",
    "male_amount = gender_amount.get('M', 0)"
   ]
  },
  {
   "cell_type": "code",
   "execution_count": 65,
   "id": "b3fafe53-bcea-4062-a5f6-eaf5223a89b7",
   "metadata": {},
   "outputs": [
    {
     "name": "stdout",
     "output_type": "stream",
     "text": [
      "The amount spent by males is: 41389816.07\n"
     ]
    }
   ],
   "source": [
    "print(f'The amount spent by males is: {male_amount}')"
   ]
  },
  {
   "cell_type": "code",
   "execution_count": 67,
   "id": "4e3bbb16-9f0e-4cf6-90ef-369625020a93",
   "metadata": {},
   "outputs": [
    {
     "data": {
      "image/png": "[encoded data removed]",
      "text/plain": [
       "<Figure size 640x480 with 1 Axes>"
      ]
     },
     "metadata": {},
     "output_type": "display_data"
    }
   ],
   "source": [
    "bar_width = 0.5  \n",
    "x_labels = ['Female', 'Male']   \n",
    "x_positions = [0, 1]\n",
    "\n",
    "plt.bar([0], female_amount, width=bar_width, color='pink', label='Female Amount')\n",
    "plt.bar([1], male_amount, width=bar_width, color='blue', label='Male Amount')\n",
    "\n",
    "plt.yticks(range(0, int(max(female_amount, male_amount)) + 10000000, 10000000), \n",
    "           [f\"{x // 1000000}M\" for x in range(0, int(max(female_amount, male_amount)) + 10000000, 10000000)])\n",
    "\n",
    "plt.title('Total Amount Spent by Gender')\n",
    "plt.ylabel('Total Amount') \n",
    "plt.xticks(x_positions, x_labels) \n",
    "plt.legend()  \n",
    "plt.show()"
   ]
  },
  {
   "cell_type": "code",
   "execution_count": null,
   "id": "806206f1-3a35-465e-8054-ed75683329de",
   "metadata": {},
   "outputs": [],
   "source": []
  },
  {
   "cell_type": "code",
   "execution_count": null,
   "id": "52c0a482-8082-4b01-aa8f-a8709b623442",
   "metadata": {},
   "outputs": [],
   "source": [
    "##TOTAL AMOUNT SPENT BY AGE RANGE##"
   ]
  },
  {
   "cell_type": "code",
   "execution_count": 144,
   "id": "40d6d9e3-7289-4d12-9d41-785485b0dd57",
   "metadata": {},
   "outputs": [],
   "source": [
    "df['birth_year']=pd.to_datetime(df['dob']).dt.year"
   ]
  },
  {
   "cell_type": "code",
   "execution_count": 292,
   "id": "82738e0f-cc2d-49ef-919e-4d4756ab7151",
   "metadata": {},
   "outputs": [],
   "source": [
    "##filter the data by gender (F) and age\n",
    "\n",
    "filtered_df_1 = df[(df['gender']=='F') & (df['birth_year'].between(1950, 1960))]\n",
    "filtered_df_2 = df[(df['gender']=='F') & (df['birth_year'].between(1970, 1980))]\n",
    "filtered_df_3 = df[(df['gender']=='F') & (df['birth_year'].between(1990, 2005))]"
   ]
  },
  {
   "cell_type": "code",
   "execution_count": 328,
   "id": "4972934a-65b9-4398-aee1-0e37b8d72b24",
   "metadata": {},
   "outputs": [],
   "source": [
    "##filter the data by gender (M) and age\n",
    "\n",
    "filtered_df_4 = df[(df['gender']=='M') & (df['birth_year'].between(1950, 1960))]\n",
    "filtered_df_5 = df[(df['gender']=='M') & (df['birth_year'].between(1970, 1980))]  \n",
    "filtered_df_6 = df[(df['gender']=='M') & (df['birth_year'].between(1990, 2005))]"
   ]
  },
  {
   "cell_type": "code",
   "execution_count": 330,
   "id": "853a651e-f8bd-4c78-a652-3bdd53c436aa",
   "metadata": {},
   "outputs": [],
   "source": [
    "##group the data into DataFrame\n",
    "\n",
    "amount_spent_1 = filtered_df_1.groupby('birth_year')['amt'].sum().reset_index()\n",
    "amount_spent_2 = filtered_df_2.groupby('birth_year')['amt'].sum().reset_index()\n",
    "amount_spent_3 = filtered_df_3.groupby('birth_year')['amt'].sum().reset_index()"
   ]
  },
  {
   "cell_type": "code",
   "execution_count": 332,
   "id": "bbea0aed-9707-42d0-ac44-666cfaecec44",
   "metadata": {},
   "outputs": [],
   "source": [
    "##group the data into DataFrame\n",
    "\n",
    "amount_spent_4 = filtered_df_4.groupby('birth_year')['amt'].sum().reset_index()\n",
    "amount_spent_5 = filtered_df_5.groupby('birth_year')['amt'].sum().reset_index()\n",
    "amount_spent_5 = filtered_df_5.groupby('birth_year')['amt'].sum().reset_index()"
   ]
  },
  {
   "cell_type": "code",
   "execution_count": 364,
   "id": "20b5c4d9-cfe2-4a61-b883-0b001370e7d4",
   "metadata": {},
   "outputs": [],
   "source": [
    "##calculate the total amount spent by females\n",
    "\n",
    "total_amount_spent_1 = filtered_df_1['amt'].sum()\n",
    "total_amount_spent_2 = filtered_df_2['amt'].sum()\n",
    "total_amount_spent_3 = filtered_df_3['amt'].sum()"
   ]
  },
  {
   "cell_type": "code",
   "execution_count": 334,
   "id": "93ef493c-6952-4b47-8494-14482f8b333c",
   "metadata": {},
   "outputs": [],
   "source": [
    "##calculate the total amount spent by males\n",
    "\n",
    "total_amount_spent_4 = filtered_df_4['amt'].sum()\n",
    "total_amount_spent_5 = filtered_df_5['amt'].sum()\n",
    "total_amount_spent_6 = filtered_df_6['amt'].sum()"
   ]
  },
  {
   "cell_type": "code",
   "execution_count": 336,
   "id": "95bd9a99-71d4-4bb0-8b0f-38873d0c1720",
   "metadata": {},
   "outputs": [],
   "source": [
    "plot_data = pd.DataFrame({'Category': ['1950-1960', '1970-1980', '1990-2005'], 'Total Amount Spent Females': [total_amount_spent_1, total_amount_spent_2, total_amount_spent_3],\n",
    "                          'Total Amount Spent Males': [total_amount_spent_4, total_amount_spent_5, total_amount_spent_6]})"
   ]
  },
  {
   "cell_type": "code",
   "execution_count": 340,
   "id": "b37d14a0-861d-4ae0-9e8b-2259c096f073",
   "metadata": {},
   "outputs": [
    {
     "name": "stdout",
     "output_type": "stream",
     "text": [
      "The total amount spent by females born from 1950 to 1960: 5539629.43\n",
      "The total amount spent by females born from 1970 to 1980: 13429908.459999999\n",
      "The total amount spent by females born from 1990 to 2005: 8857536.04\n",
      "The total amount spent by males born from 1950 to 1960: 4486923.509999999\n",
      "The total amount spent by males born from 1970 to 1980: 10617769.650000002\n",
      "The total amount spent by males born from 1990 to 2005: 7489686.629999998\n"
     ]
    }
   ],
   "source": [
    "##the total amount spent by gender in their age range\n",
    "\n",
    "print('The total amount spent by females born from 1950 to 1960:', total_amount_spent_1)\n",
    "print('The total amount spent by females born from 1970 to 1980:', total_amount_spent_2)\n",
    "print('The total amount spent by females born from 1990 to 2005:', total_amount_spent_3)\n",
    "\n",
    "print('The total amount spent by males born from 1950 to 1960:', total_amount_spent_4)\n",
    "print('The total amount spent by males born from 1970 to 1980:', total_amount_spent_5)\n",
    "print('The total amount spent by males born from 1990 to 2005:', total_amount_spent_6)"
   ]
  },
  {
   "cell_type": "code",
   "execution_count": 362,
   "id": "b99f9acf-aa97-4e63-abfe-97bbd988af70",
   "metadata": {},
   "outputs": [
    {
     "data": {
      "image/png": "[encoded data removed]",
      "text/plain": [
       "<Figure size 640x480 with 1 Axes>"
      ]
     },
     "metadata": {},
     "output_type": "display_data"
    }
   ],
   "source": [
    "bar_width = 0.35  \n",
    "x = range(len(plot_data['Category']))  \n",
    "\n",
    "plt.bar(x, plot_data['Total Amount Spent Females'], color='pink', width=bar_width, label='Females')\n",
    "plt.bar([i + bar_width for i in x], plot_data['Total Amount Spent Males'], color='blue', width=bar_width, label='Males')\n",
    "\n",
    "plt.gca().yaxis.set_major_locator(ticker.MultipleLocator(2_000_000)) \n",
    "plt.gca().yaxis.set_major_formatter(ticker.FuncFormatter(lambda x, _: f'{int(x / 1_000_000)}M'))  \n",
    "\n",
    "\n",
    "plt.ylabel('Total Amount Spent')\n",
    "plt.title('Total Amount Spent by Gender')\n",
    "plt.xticks([i + bar_width / 2 for i in x], plot_data['Category'])\n",
    "plt.legend()\n",
    "\n",
    "plt.show() "
   ]
  },
  {
   "cell_type": "code",
   "execution_count": null,
   "id": "68d2091f-fee1-486e-b00f-a174edcea54e",
   "metadata": {},
   "outputs": [],
   "source": []
  },
  {
   "cell_type": "code",
   "execution_count": null,
   "id": "115057cb-59fd-4202-9efc-512c214b91bd",
   "metadata": {},
   "outputs": [],
   "source": [
    "## CONCLUSIONS ##"
   ]
  },
  {
   "cell_type": "code",
   "execution_count": null,
   "id": "fa91c845-d9d9-4150-b00f-33f7972621b2",
   "metadata": {},
   "outputs": [],
   "source": [
    "## Conclusion 1\n",
    "## The data shows the biggest consumer of the product is women born between 1970-1980.\n",
    "## Consider introducing credit card products that cater to the needs of females born in that\n",
    "## time, such as groceries, education, childcare benefits."
   ]
  },
  {
   "cell_type": "code",
   "execution_count": null,
   "id": "d19e1c8a-4c66-43a9-92b3-9e5824a7812c",
   "metadata": {},
   "outputs": [],
   "source": [
    "## Conclusion 2\n",
    "## To better target both male and female users born in 1990-2005, consider collaborating with\n",
    "## influencers to better attract that audience. 69.7% of U.S. companies leverage influencers to\n",
    "## better attract the younger population."
   ]
  }
 ],
 "metadata": {
  "kernelspec": {
   "display_name": "Python 3 (ipykernel)",
   "language": "python",
   "name": "python3"
  },
  "language_info": {
   "codemirror_mode": {
    "name": "ipython",
    "version": 3
   },
   "file_extension": ".py",
   "mimetype": "text/x-python",
   "name": "python",
   "nbconvert_exporter": "python",
   "pygments_lexer": "ipython3",
   "version": "3.12.4"
  }
 },
 "nbformat": 4,
 "nbformat_minor": 5
}
